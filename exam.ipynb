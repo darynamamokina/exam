{
 "cells": [
  {
   "cell_type": "markdown",
   "metadata": {},
   "source": [
    "Система відстеження витрат\n",
    "Напишіть програму для відстеження щоденних витрат. Користувачі можуть додавати витрати, вказуючи категорію (наприклад, їжа, транспорт) та суму. \n",
    "Програма повинна вміти агрегувати дані за категоріями та відображати загальний бюджет. Реалізуйте зберігання даних у файлах."
   ]
  },
  {
   "cell_type": "code",
   "execution_count": null,
   "metadata": {},
   "outputs": [],
   "source": [
    "import json"
   ]
  },
  {
   "cell_type": "code",
   "execution_count": null,
   "metadata": {},
   "outputs": [],
   "source": [
    "class ExpenseTracker:\n",
    "    def __init__(self, username):\n",
    "        self.username = username\n",
    "        self.data = {\n",
    "            'username': username,\n",
    "            'expenses': []\n",
    "        }\n",
    "\n",
    "    def add_expense(self, category, amount):\n",
    "        self.data['expenses'].append({\n",
    "            'category': category,\n",
    "            'amount': amount\n",
    "        })\n",
    "        self.save_data()\n",
    "\n",
    "    def get_total_budget(self):\n",
    "        return sum([expense['amount'] for expense in self.data['expenses']])"
   ]
  }
 ],
 "metadata": {
  "language_info": {
   "name": "python"
  }
 },
 "nbformat": 4,
 "nbformat_minor": 2
}
