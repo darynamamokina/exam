{
 "cells": [
  {
   "cell_type": "markdown",
   "metadata": {},
   "source": [
    "Система відстеження витрат\n",
    "Напишіть програму для відстеження щоденних витрат. Користувачі можуть додавати витрати, вказуючи категорію (наприклад, їжа, транспорт) та суму. \n",
    "Програма повинна вміти агрегувати дані за категоріями та відображати загальний бюджет. Реалізуйте зберігання даних у файлах."
   ]
  },
  {
   "cell_type": "code",
   "execution_count": null,
   "metadata": {},
   "outputs": [],
   "source": [
    "import json"
   ]
  },
  {
   "cell_type": "code",
   "execution_count": null,
   "metadata": {},
   "outputs": [],
   "source": [
    "def save_data(expenses):\n",
    "    with open('expenses.json', 'w') as file:\n",
    "        json.dump(expenses, file)\n",
    "\n",
    "def load_data():\n",
    "    try:\n",
    "        with open('expenses.json', 'r') as file:\n",
    "            return json.load(file)\n",
    "    except FileNotFoundError:\n",
    "        return {}"
   ]
  }
 ],
 "metadata": {
  "language_info": {
   "name": "python"
  }
 },
 "nbformat": 4,
 "nbformat_minor": 2
}
