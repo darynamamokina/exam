{
 "cells": [
  {
   "cell_type": "markdown",
   "metadata": {},
   "source": [
    "Система відстеження витрат\n",
    "Напишіть програму для відстеження щоденних витрат. Користувачі можуть додавати витрати, вказуючи категорію (наприклад, їжа, транспорт) та суму. \n",
    "Програма повинна вміти агрегувати дані за категоріями та відображати загальний бюджет. Реалізуйте зберігання даних у файлах."
   ]
  },
  {
   "cell_type": "code",
   "execution_count": null,
   "metadata": {},
   "outputs": [],
   "source": [
    "import json"
   ]
  },
  {
   "cell_type": "code",
   "execution_count": null,
   "metadata": {},
   "outputs": [],
   "source": [
    "def save_data(expenses):\n",
    "    with open('expenses.json', 'w') as file:\n",
    "        json.dump(expenses, file)\n",
    "\n",
    "def load_data():\n",
    "    try:\n",
    "        with open('expenses.json', 'r') as file:\n",
    "            return json.load(file)\n",
    "    except FileNotFoundError:\n",
    "        return {}"
   ]
  },
  {
   "cell_type": "code",
   "execution_count": null,
   "metadata": {},
   "outputs": [],
   "source": [
    "def main():\n",
    "    expenses = load_data()\n",
    "    total_expenses = 0\n",
    "\n",
    "    while True:\n",
    "        action = input(\"Choose action (list, add, delete, quit): \")\n",
    "\n",
    "        if action == \"list\":\n",
    "            for index, (description, amount) in enumerate(expenses.items()):\n",
    "                print(f\"{index + 1}. {description} - ${amount}\")\n",
    "            print(f\"\\nTotal expenses: ${total_expenses}\")\n",
    "        elif action == \"add\":\n",
    "            description = input(\"Enter description: \")\n",
    "            amount = float(input(\"Enter amount: $\"))\n",
    "            expenses[description] = amount\n",
    "            total_expenses += amount\n",
    "        elif action == \"delete\":\n",
    "            description = input(\"Enter description of expense to delete: \")\n",
    "            if description in expenses:\n",
    "                total_expenses -= expenses[description]\n",
    "                del expenses[description]\n",
    "            else:\n",
    "                print(\"Expense not found.\")\n",
    "        elif action == \"quit\":\n",
    "            save_data(expenses)\n",
    "            break\n",
    "        else:\n",
    "            print(\"Invalid action. Please try again.\")"
   ]
  },
  {
   "cell_type": "code",
   "execution_count": null,
   "metadata": {},
   "outputs": [],
   "source": [
    "if __name__ == \"__main__\":\n",
    "    main()"
   ]
  }
 ],
 "metadata": {
  "language_info": {
   "name": "python"
  }
 },
 "nbformat": 4,
 "nbformat_minor": 2
}
